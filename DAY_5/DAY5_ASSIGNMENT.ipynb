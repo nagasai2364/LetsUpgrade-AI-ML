{
 "cells": [
  {
   "cell_type": "markdown",
   "metadata": {},
   "source": [
    "# Question 1 :\n",
    "Write a Python program to find the first 20 non-even prime natural numbers."
   ]
  },
  {
   "cell_type": "code",
   "execution_count": 18,
   "metadata": {},
   "outputs": [
    {
     "name": "stdout",
     "output_type": "stream",
     "text": [
      "3,5,7,11,13,17,19,23,29,31,37,41,43,47,53,59,61,67,71,73,"
     ]
    }
   ],
   "source": [
    "def prime(num):\n",
    "    for i in range(2,num):\n",
    "        if((num%i)==0):\n",
    "            return False\n",
    "            break\n",
    "    \n",
    "    return True\n",
    "lst=[]\n",
    "for j in range(200):\n",
    "    if(prime(j)==True):\n",
    "        lst.append(j)\n",
    "    else:\n",
    "        continue\n",
    "lst.pop(0)\n",
    "lst.pop(0)\n",
    "lst.pop(0)\n",
    "\n",
    "count=0\n",
    "for k in lst:\n",
    "    print(k,end=\",\")\n",
    "    count=count+1\n",
    "    if(count==20):\n",
    "        break\n",
    "\n"
   ]
  },
  {
   "cell_type": "markdown",
   "metadata": {},
   "source": [
    "# Question 2 : \n",
    "Write a Python program to implement 15 functions of string. \n"
   ]
  },
  {
   "cell_type": "code",
   "execution_count": 27,
   "metadata": {},
   "outputs": [
    {
     "name": "stdout",
     "output_type": "stream",
     "text": [
      "Sai charan\n",
      "sai charan\n",
      "1\n",
      "b'Sai Charan'\n",
      "True\n",
      "2\n",
      "False\n",
      "False\n",
      "False\n",
      "False\n",
      "False\n",
      "True\n",
      "SAI CHARAN\n",
      "sAI cHARAN\n",
      "True\n"
     ]
    }
   ],
   "source": [
    "a=\"Sai Charan\"\n",
    "print(a.capitalize())\n",
    "print(a.casefold())\n",
    "print(a.count(a))\n",
    "print(a.encode())\n",
    "print(a.endswith(\"n\"))\n",
    "print(a.find(\"i\"))\n",
    "print(a.isalpha())\n",
    "print(a.isdecimal())\n",
    "print(a.isdigit())\n",
    "print(a.islower())\n",
    "print(a.isnumeric())\n",
    "print(a.istitle())\n",
    "print(a.upper())\n",
    "print(a.swapcase())\n",
    "print(a.startswith(\"S\"))"
   ]
  },
  {
   "cell_type": "markdown",
   "metadata": {},
   "source": [
    "# Question 3:\n",
    "Write a Python program to check if the given string is a Palindrome or Anagram or None of them.\n",
    "Display the message accordingly to the user"
   ]
  },
  {
   "cell_type": "code",
   "execution_count": 2,
   "metadata": {},
   "outputs": [
    {
     "name": "stdout",
     "output_type": "stream",
     "text": [
      "MALAYALAM\n",
      "Palindrome\n",
      "TO check anagram, Enter the second string  :LAMAYALAM\n",
      "ANAGRAM\n"
     ]
    }
   ],
   "source": [
    "a=list(input())\n",
    "\n",
    "b=a[::-1]\n",
    "\n",
    "if(a==b):\n",
    "    print(\"Palindrome\")\n",
    "else:\n",
    "    print(\"Not palindrome\")\n",
    "    \n",
    "b=list(input(\"TO check anagram, Enter the second string  :\"))\n",
    "\n",
    "c=a.sort()\n",
    "d=b.sort()\n",
    "if(c==d):\n",
    "  print(\"ANAGRAM\")\n",
    "else:\n",
    "    print(\"NONE OF THEM\")\n",
    "\n"
   ]
  },
  {
   "cell_type": "markdown",
   "metadata": {},
   "source": [
    "# Question 4:\n",
    "Write a Python's user defined function that removes all the additional characters from the string\n",
    "and converts it finally to lower case using built-in lower(). eg: If the string is \"Dr. Darshan Ingle\n",
    "@AI-ML Trainer\", then the output be \"drdarshaningleaimltrainer\"."
   ]
  },
  {
   "cell_type": "code",
   "execution_count": 11,
   "metadata": {},
   "outputs": [
    {
     "name": "stdout",
     "output_type": "stream",
     "text": [
      "drdarshaningleaimltrainer"
     ]
    }
   ],
   "source": [
    "def converter(a):\n",
    "    lst=[]\n",
    "    for i in a:\n",
    "        if(i==\".\" or i==\"@\" or i==\" \"):\n",
    "            continue\n",
    "        else:\n",
    "            a=i.lower()\n",
    "            lst.append(a)\n",
    "    for j in lst:\n",
    "        print(j,end=\"\")\n",
    "    \n",
    "converter(\"Dr. Darshan Ingle @AI-ML Trainer\")\n",
    "    "
   ]
  }
 ],
 "metadata": {
  "kernelspec": {
   "display_name": "Python 3",
   "language": "python",
   "name": "python3"
  },
  "language_info": {
   "codemirror_mode": {
    "name": "ipython",
    "version": 3
   },
   "file_extension": ".py",
   "mimetype": "text/x-python",
   "name": "python",
   "nbconvert_exporter": "python",
   "pygments_lexer": "ipython3",
   "version": "3.7.6"
  }
 },
 "nbformat": 4,
 "nbformat_minor": 4
}
