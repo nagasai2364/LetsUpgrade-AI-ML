{
 "cells": [
  {
   "cell_type": "markdown",
   "metadata": {},
   "source": [
    "# Question 1 :\n",
    "Write a program to subtract two complex numbers in Python.\n"
   ]
  },
  {
   "cell_type": "code",
   "execution_count": 2,
   "metadata": {},
   "outputs": [
    {
     "name": "stdout",
     "output_type": "stream",
     "text": [
      "Enter the first complex number :5+3j\n",
      "Enter the second complex number :4+8j\n",
      "(1-5j)\n"
     ]
    }
   ],
   "source": [
    "a=complex(input(\"Enter the first complex number :\"))\n",
    "b=complex(input(\"Enter the second complex number :\"))\n",
    "\n",
    "\n",
    "print(a-b)"
   ]
  },
  {
   "cell_type": "markdown",
   "metadata": {},
   "source": [
    "# Question 2 :\n",
    "Write a program to find the fourth root of a number"
   ]
  },
  {
   "cell_type": "code",
   "execution_count": 5,
   "metadata": {},
   "outputs": [
    {
     "name": "stdout",
     "output_type": "stream",
     "text": [
      "Enter the number :256\n",
      "4.0\n"
     ]
    }
   ],
   "source": [
    "a=float(input(\"Enter the number :\"))\n",
    "print(a**(1/4))"
   ]
  },
  {
   "cell_type": "markdown",
   "metadata": {},
   "source": [
    "# Question 3:\n",
    "Write a program to swap two numbers in Python with the help of a temporary variable.\n"
   ]
  },
  {
   "cell_type": "code",
   "execution_count": 7,
   "metadata": {},
   "outputs": [
    {
     "name": "stdout",
     "output_type": "stream",
     "text": [
      "Enter the first  number :6\n",
      "Enter the second number :5\n",
      "before swapping a= 6 b= 5\n",
      "after swapping a= 5 b= 6\n"
     ]
    }
   ],
   "source": [
    "a=int(input(\"Enter the first  number :\"))\n",
    "b=int(input(\"Enter the second number :\"))\n",
    "print(\"before swapping\",\"a=\",a,\"b=\",b)\n",
    "temp=a\n",
    "a=b\n",
    "b=temp\n",
    "\n",
    "print(\"after swapping\",\"a=\",a,\"b=\",b)"
   ]
  },
  {
   "cell_type": "markdown",
   "metadata": {},
   "source": [
    "# Question 4:\n",
    "Write a program to swap two numbers in Python without using a temporary variable."
   ]
  },
  {
   "cell_type": "code",
   "execution_count": 8,
   "metadata": {},
   "outputs": [
    {
     "name": "stdout",
     "output_type": "stream",
     "text": [
      "Enter the first  number :5\n",
      "Enter the second number :6\n",
      "before swapping a= 5 b= 6\n",
      "after swapping a= 6 b= 5\n"
     ]
    }
   ],
   "source": [
    "a=int(input(\"Enter the first  number :\"))\n",
    "b=int(input(\"Enter the second number :\"))\n",
    "print(\"before swapping\",\"a=\",a,\"b=\",b)\n",
    "\n",
    "a,b=b,a\n",
    "print(\"after swapping\",\"a=\",a,\"b=\",b)"
   ]
  },
  {
   "cell_type": "markdown",
   "metadata": {},
   "source": [
    "# Question 5:\n",
    "Write a program to convert fahrenheit to kelvin and celsius both."
   ]
  },
  {
   "cell_type": "code",
   "execution_count": 14,
   "metadata": {},
   "outputs": [
    {
     "name": "stdout",
     "output_type": "stream",
     "text": [
      "Enter temperature in celsius: 65\n",
      "65.00 Celsius is: 149.00 Fahrenheit\n"
     ]
    }
   ],
   "source": [
    "celsius = float(input(\"Enter temperature in celsius: \"))\n",
    "fahrenheit = (celsius * 9/5) + 32\n",
    "print('%.2f Celsius is: %0.2f Fahrenheit' %(celsius, fahrenheit))\n"
   ]
  },
  {
   "cell_type": "code",
   "execution_count": 18,
   "metadata": {},
   "outputs": [
    {
     "name": "stdout",
     "output_type": "stream",
     "text": [
      "Enter temperature in fahrenheit: 22\n",
      "22.00 Fahrenheit is: -5.56 Celsius\n"
     ]
    }
   ],
   "source": [
    "fahrenheit = float(input(\"Enter temperature in fahrenheit: \"))\n",
    "celsius = (fahrenheit - 32) * 5/9\n",
    "print('%.2f Fahrenheit is: %0.2f Celsius' %(fahrenheit, celsius))"
   ]
  },
  {
   "cell_type": "markdown",
   "metadata": {},
   "source": [
    "#  Write a program to demonstrate all the available data types in Python. Hint: Use type() function."
   ]
  },
  {
   "cell_type": "code",
   "execution_count": 22,
   "metadata": {},
   "outputs": [
    {
     "name": "stdout",
     "output_type": "stream",
     "text": [
      "<class 'int'>\n",
      "<class 'float'>\n",
      "<class 'str'>\n",
      "<class 'bool'>\n"
     ]
    }
   ],
   "source": [
    "a=4\n",
    "print(type(a))\n",
    "a=5.0\n",
    "print(type(a))\n",
    "a=\"sai\"\n",
    "print(type(a))\n",
    "a=True\n",
    "print(type(a))"
   ]
  },
  {
   "cell_type": "markdown",
   "metadata": {},
   "source": [
    "# Question 7:\n",
    "Create a Markdown cell in jupyter and list the steps discussed in the session by Dr. Darshan\n",
    "Ingle sir to create Github profile and upload Githubs Assignment link."
   ]
  },
  {
   "cell_type": "markdown",
   "metadata": {},
   "source": []
  },
  {
   "cell_type": "markdown",
   "metadata": {},
   "source": [
    "1)Create a github profile or an account.\n",
    "2)Setting up an github account is as similar to signing in using google\n",
    "3)Enter the user name as needed and verify the email as to validate your account.\n",
    "4)Once done, create a repository and name it \"LetsUpgrade AI/ML\"\n",
    "5)Save you project as ipynb file and shift the file to a folder named as the date of the assignment.\n",
    "6)upload the folder and copy the github url.\n",
    "7)Check the url using incognito mode for its public validity.\n",
    "8)Fill and submit then google form from community and fill the url block with the github url.\n",
    "9)Assignment has been sucessfully uploaded"
   ]
  }
 ],
 "metadata": {
  "kernelspec": {
   "display_name": "Python 3",
   "language": "python",
   "name": "python3"
  },
  "language_info": {
   "codemirror_mode": {
    "name": "ipython",
    "version": 3
   },
   "file_extension": ".py",
   "mimetype": "text/x-python",
   "name": "python",
   "nbconvert_exporter": "python",
   "pygments_lexer": "ipython3",
   "version": "3.7.6"
  }
 },
 "nbformat": 4,
 "nbformat_minor": 4
}
