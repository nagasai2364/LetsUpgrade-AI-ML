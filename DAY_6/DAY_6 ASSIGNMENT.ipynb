{
 "cells": [
  {
   "cell_type": "markdown",
   "metadata": {},
   "source": [
    "# Question 1: \n",
    "Assuming that we have some email addresses in the \"username@companyname.com\" format, please write program to print the company name of a given email address. Both user names and company names are composed of letters only. \n",
    " \n",
    "Input Format: The first line of the input contains an email address. Output Format: Print the company name in single line. Example; Input: john@google.com Output: google "
   ]
  },
  {
   "cell_type": "code",
   "execution_count": 1,
   "metadata": {},
   "outputs": [
    {
     "name": "stdout",
     "output_type": "stream",
     "text": [
      "Enter the email address :john@google.com\n",
      "google\n"
     ]
    }
   ],
   "source": [
    "a=input(\"Enter the email address :\")\n",
    "b=a.split('@')\n",
    "\n",
    "c=b[1].split(\".\")\n",
    "print(c[0])"
   ]
  },
  {
   "cell_type": "markdown",
   "metadata": {},
   "source": [
    "# Question 2:\n",
    "Write a program that accepts a comma-separated sequence of words as input and prints the words in a comma separated sequence after sorting them alphabetically. \n",
    " \n",
    "Input Format: The first line of input contains words separated by the comma. Output Format: Print the sorted words separated by the comma. Example: Input: without,hello,bag,world Output: bag,hello,without,world "
   ]
  },
  {
   "cell_type": "code",
   "execution_count": 9,
   "metadata": {},
   "outputs": [
    {
     "name": "stdout",
     "output_type": "stream",
     "text": [
      "without,hello,bag,world\n",
      "bag,hello,without,world,"
     ]
    }
   ],
   "source": [
    "a=input()\n",
    "b=a.split(\",\")\n",
    "\n",
    "v=sorted(b)\n",
    "for i in range(len(v)):\n",
    "    print(v[i],end=\",\")\n"
   ]
  },
  {
   "cell_type": "markdown",
   "metadata": {},
   "source": [
    "# Question 3: \n",
    "Create your own Jupyter Notebook for Sets. Reference link: https://www.w3schools.com/python/python_sets.asp "
   ]
  },
  {
   "cell_type": "code",
   "execution_count": 2,
   "metadata": {},
   "outputs": [],
   "source": [
    "a=set([\"a\",1,2,3,4,4,4,4]) #initialization of set\n"
   ]
  },
  {
   "cell_type": "code",
   "execution_count": 3,
   "metadata": {},
   "outputs": [
    {
     "data": {
      "text/plain": [
       "{1, 2, 3, 4, 'a'}"
      ]
     },
     "execution_count": 3,
     "metadata": {},
     "output_type": "execute_result"
    }
   ],
   "source": [
    "a #display of set"
   ]
  },
  {
   "cell_type": "code",
   "execution_count": 4,
   "metadata": {},
   "outputs": [],
   "source": [
    "a.add(23) #add an element to set"
   ]
  },
  {
   "cell_type": "code",
   "execution_count": 5,
   "metadata": {},
   "outputs": [
    {
     "data": {
      "text/plain": [
       "{1, 2, 23, 3, 4, 'a'}"
      ]
     },
     "execution_count": 5,
     "metadata": {},
     "output_type": "execute_result"
    }
   ],
   "source": [
    "a #display after adding"
   ]
  },
  {
   "cell_type": "code",
   "execution_count": 6,
   "metadata": {},
   "outputs": [],
   "source": [
    "b=a.copy() #copying one element to another set"
   ]
  },
  {
   "cell_type": "code",
   "execution_count": 7,
   "metadata": {},
   "outputs": [
    {
     "data": {
      "text/plain": [
       "{1, 2, 23, 3, 4, 'a'}"
      ]
     },
     "execution_count": 7,
     "metadata": {},
     "output_type": "execute_result"
    }
   ],
   "source": [
    "b #display set"
   ]
  },
  {
   "cell_type": "code",
   "execution_count": 8,
   "metadata": {},
   "outputs": [],
   "source": [
    "b.update(\"5\") #add element 5 to set b"
   ]
  },
  {
   "cell_type": "code",
   "execution_count": 9,
   "metadata": {},
   "outputs": [
    {
     "data": {
      "text/plain": [
       "{'5'}"
      ]
     },
     "execution_count": 9,
     "metadata": {},
     "output_type": "execute_result"
    }
   ],
   "source": [
    "b.difference(a) #set b difference with a"
   ]
  },
  {
   "cell_type": "code",
   "execution_count": 10,
   "metadata": {},
   "outputs": [
    {
     "data": {
      "text/plain": [
       "{1, 2, 23, 3, 4, 'a'}"
      ]
     },
     "execution_count": 10,
     "metadata": {},
     "output_type": "execute_result"
    }
   ],
   "source": [
    "b.intersection(a) #display common elements using intersection"
   ]
  },
  {
   "cell_type": "code",
   "execution_count": 11,
   "metadata": {},
   "outputs": [],
   "source": [
    "b.discard(\"2\") #deleting element 2 from set b"
   ]
  },
  {
   "cell_type": "code",
   "execution_count": 12,
   "metadata": {},
   "outputs": [
    {
     "data": {
      "text/plain": [
       "{1, 2, 23, 3, 4, '5', 'a'}"
      ]
     },
     "execution_count": 12,
     "metadata": {},
     "output_type": "execute_result"
    }
   ],
   "source": [
    "b #display after removing"
   ]
  },
  {
   "cell_type": "code",
   "execution_count": 13,
   "metadata": {},
   "outputs": [
    {
     "data": {
      "text/plain": [
       "{1, 2, 23, 3, 4, '5', 'a'}"
      ]
     },
     "execution_count": 13,
     "metadata": {},
     "output_type": "execute_result"
    }
   ],
   "source": [
    "b.union(a) #elements after union of a and b"
   ]
  },
  {
   "cell_type": "code",
   "execution_count": 14,
   "metadata": {},
   "outputs": [
    {
     "data": {
      "text/plain": [
       "{1, 2, 23, 3, 4, 'a'}"
      ]
     },
     "execution_count": 14,
     "metadata": {},
     "output_type": "execute_result"
    }
   ],
   "source": [
    "b.remove('5') #removing element 5 \n",
    "b"
   ]
  },
  {
   "cell_type": "code",
   "execution_count": 15,
   "metadata": {},
   "outputs": [
    {
     "data": {
      "text/plain": [
       "set()"
      ]
     },
     "execution_count": 15,
     "metadata": {},
     "output_type": "execute_result"
    }
   ],
   "source": [
    "b.clear() #clearing the set\n",
    "b"
   ]
  },
  {
   "cell_type": "markdown",
   "metadata": {},
   "source": [
    "# Question 4:  \n",
    "Given a list of n-1 numbers ranging from 1 to n, your task is to find the missing number. There are no duplicates. \n",
    " \n",
    "Input Format: The first line contains n-1 numbers with each number separated by a space. Output Format: Print the missing number Example: Input:1 2 4 6 3 7 8 Output:5 \n",
    " \n",
    "Explanation: In the above list of numbers 5 is missing and hence 5 is the input "
   ]
  },
  {
   "cell_type": "code",
   "execution_count": 1,
   "metadata": {},
   "outputs": [
    {
     "name": "stdout",
     "output_type": "stream",
     "text": [
      "1 2 4 6 3 7 8\n",
      "{5}\n"
     ]
    }
   ],
   "source": [
    "n=input()\n",
    "lst=[]\n",
    "set1=set()\n",
    "set2=set()\n",
    "\n",
    "for i in n:\n",
    "  if(i!=\" \"):\n",
    "    set1.add(int(i))\n",
    "\n",
    "\n",
    "for j in range(1,len(set1)):\n",
    "  set2.add(j)\n",
    "\n",
    "\n",
    "\n",
    "print(set2-set1)"
   ]
  },
  {
   "cell_type": "markdown",
   "metadata": {},
   "source": [
    "# Question 5:\n",
    "With a given list L, write a program to print this list L after removing all duplicate values with original order reserved. \n",
    " \n",
    "Example: If the input list is 12 24 35 24 88 120 155 88 120 155 \n",
    " \n",
    "Then the output should be 12 24 35 88 120 155 \n",
    " \n",
    "Explanation: Third, seventh and ninth element of the list L has been removed because it was already present. Input Format: In one line take the elements of the list L with each element separated by a space. Output Format: Print the elements of the modified list in one line with each element separated by a space. Example: Input: 12 24 35 24 Output: 12 24 35"
   ]
  },
  {
   "cell_type": "code",
   "execution_count": 34,
   "metadata": {},
   "outputs": [
    {
     "name": "stdout",
     "output_type": "stream",
     "text": [
      "12 24 35 24 88 120 155 88 120 155\n",
      "24 88 35 12 120 155 "
     ]
    }
   ],
   "source": [
    "n=input()\n",
    "a=n.split(\" \")\n",
    "lst=[]\n",
    "set1=set()\n",
    "set2=set()\n",
    "\n",
    "for i in a:\n",
    "  if(i!=\" \"):\n",
    "\n",
    "    lst.append(i)\n",
    "e=set(lst)\n",
    "\n",
    "for j in e:\n",
    "    print(j,end=\" \")\n",
    "        "
   ]
  },
  {
   "cell_type": "code",
   "execution_count": 1,
   "metadata": {},
   "outputs": [
    {
     "name": "stdout",
     "output_type": "stream",
     "text": [
      "12 24 35 24\n",
      "35 24 12 "
     ]
    }
   ],
   "source": [
    "n=input()\n",
    "a=n.split(\" \")\n",
    "lst=[]\n",
    "set1=set()\n",
    "set2=set()\n",
    "\n",
    "for i in a:\n",
    "  if(i!=\" \"):\n",
    "\n",
    "    lst.append(i)\n",
    "e=set(lst)\n",
    "\n",
    "\n",
    "for j in e:\n",
    "    print(j,end=\" \")"
   ]
  }
 ],
 "metadata": {
  "kernelspec": {
   "display_name": "Python 3",
   "language": "python",
   "name": "python3"
  },
  "language_info": {
   "codemirror_mode": {
    "name": "ipython",
    "version": 3
   },
   "file_extension": ".py",
   "mimetype": "text/x-python",
   "name": "python",
   "nbconvert_exporter": "python",
   "pygments_lexer": "ipython3",
   "version": "3.7.6"
  }
 },
 "nbformat": 4,
 "nbformat_minor": 4
}
